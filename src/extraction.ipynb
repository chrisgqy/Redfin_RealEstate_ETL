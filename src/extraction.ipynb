{
 "cells": [
  {
   "cell_type": "code",
   "execution_count": 1,
   "metadata": {},
   "outputs": [],
   "source": [
    "import pandas as pd\n",
    "import numpy as np\n",
    "import re\n",
    "from collections import defaultdict\n",
    "import requests\n",
    "from bs4 import BeautifulSoup\n",
    "import time"
   ]
  },
  {
   "cell_type": "code",
   "execution_count": 3,
   "metadata": {},
   "outputs": [],
   "source": [
    "def vancouver_grid(head, divisions=15):\n",
    "    van_geo_info_url = 'https://opendata.vancouver.ca/api/explore/v2.1/catalog/datasets/city-boundary/records?limit=20'\n",
    "    response = requests.get(van_geo_info_url,headers=head,verify=False)\n",
    "    geo_data = response.json()\n",
    "    contour = geo_data['results'][0]['geom']['geometry']['coordinates']\n",
    "\n",
    "    longitudes = [coord[0] for sublist in contour for coord in sublist]\n",
    "    latitudes = [coord[1] for sublist in contour for coord in sublist]\n",
    "\n",
    "    max_longitude = max(longitudes)\n",
    "    min_longitude = min(longitudes)\n",
    "    max_latitude = max(latitudes)\n",
    "    min_latitude = min(latitudes)\n",
    "\n",
    "    longitude_step = (max_longitude - min_longitude) / divisions\n",
    "    latitude_step = (max_latitude - min_latitude) / divisions\n",
    "\n",
    "    coord_boxes = []\n",
    "    for i in range(divisions):\n",
    "        for j in range(divisions):\n",
    "            box_min_lat = round(min_latitude + j * latitude_step, 5)\n",
    "            box_max_lat = round(min_latitude + (j + 1) * latitude_step, 5)\n",
    "            box_min_lon = round(min_longitude + i * longitude_step, 5)\n",
    "            box_max_lon = round(min_longitude + (i + 1) * longitude_step, 5)\n",
    "\n",
    "            box_str = f\"{box_min_lat}:{box_max_lat}:{box_min_lon}:{box_max_lon}\"\n",
    "            coord_boxes.append(box_str)\n",
    "    \n",
    "    return  coord_boxes"
   ]
  },
  {
   "cell_type": "code",
   "execution_count": 4,
   "metadata": {},
   "outputs": [],
   "source": [
    "def key_metric_extraction(soup_boxes, real_estate_info, incomplete_idx):\n",
    "    \n",
    "    for i, box in enumerate(soup_boxes):\n",
    "        try:\n",
    "            address = box.find('address').text[:(-7-5-len(state+city))]\n",
    "            real_estate_info['address'].append(address)\n",
    "        except: \n",
    "            real_estate_info['address'].append(np.nan)\n",
    "            incomplete_idx.append(i)\n",
    "        try:\n",
    "            zip_code = box.find('address').text[-7:]\n",
    "            real_estate_info['zip_code'].append(zip_code)\n",
    "        except: \n",
    "            real_estate_info['zip_code'].append(np.nan)\n",
    "            incomplete_idx.append(i)        \n",
    "        try:\n",
    "            price = box.find('span', {'class':'bp-Homecard__Price--value'}).text\n",
    "            real_estate_info['price'].append(price)\n",
    "        except: \n",
    "            real_estate_info['price'].append(np.nan)\n",
    "            incomplete_idx.append(i)\n",
    "        try:\n",
    "            bed = box.find('span', {'class':'bp-Homecard__Stats--beds text-nowrap'}).text\n",
    "            real_estate_info['bed'].append(bed)\n",
    "        except: \n",
    "            real_estate_info['bed'].append(np.nan)\n",
    "            incomplete_idx.append(i)   \n",
    "        try:\n",
    "            bath = box.find('span', {'class':'bp-Homecard__Stats--baths text-nowrap'}).text\n",
    "            real_estate_info['bath'].append(bath)\n",
    "        except: \n",
    "            real_estate_info['bath'].append(np.nan)\n",
    "            incomplete_idx.append(i)   \n",
    "        try:\n",
    "            sqr_footage = box.find('span', {'class':'bp-Homecard__LockedStat--value'}).text\n",
    "            real_estate_info['sqr_footage'].append(sqr_footage)\n",
    "        except:\n",
    "            real_estate_info['sqr_footage'].append(np.nan)\n",
    "            incomplete_idx.append(i)   \n",
    "        try:\n",
    "            property_link = \"https://www.redfin.com\"+box.find(\"a\").get('href')\n",
    "            real_estate_info['property_link'].append(property_link)\n",
    "        except:\n",
    "            real_estate_info['property_link'].append(np.nan)\n",
    "            incomplete_idx.append(i)\n",
    "\n",
    "    return real_estate_info, incomplete_idx\n"
   ]
  },
  {
   "cell_type": "code",
   "execution_count": null,
   "metadata": {},
   "outputs": [],
   "source": [
    "def listing_count(head, coord_box):\n",
    "\n",
    "    viewport_url = f\"https://www.redfin.ca/bc/vancouver/filter/viewport={coord_box}\"\n",
    "    resp = requests.get(viewport_url, headers=head, verify=False)\n",
    "\n",
    "    if resp.status_code != 200:\n",
    "        raise Exception(\"Failing in webpage requests\")\n",
    "    \n",
    "    soup = BeautifulSoup(resp.text, 'html.parser')\n",
    "    if soup.find('div', {'class': 'HomeViews reversePosition'}).find('h2'):\n",
    "        return 'no_listing'\n",
    "    \n",
    "    listing_summary = soup.find('div', {'class':\"homes summary reversePosition\"})\n",
    "    select_listing_count, total_listing_count = re.findall(r'\\d{1,10}(?:,\\d{1,10})*', listing_summary.text)\n",
    "    select_listing_count, total_listing_count = int(select_listing_count), int(total_listing_count.replace(',',''))\n",
    "    \n",
    "    return viewport_url, select_listing_count, total_listing_count "
   ]
  },
  {
   "cell_type": "code",
   "execution_count": null,
   "metadata": {},
   "outputs": [],
   "source": [
    "def crawling_redfin(head, viewport_url, page):\n",
    "    \n",
    "    target_url = viewport_url + \"/page-\" + str(page)\n",
    "    resp = requests.get(target_url,headers=head,verify=False)\n",
    "    \n",
    "    if resp.status_code != 200:\n",
    "        raise Exception(\"Failing in webpage requests\")\n",
    "    \n",
    "    soup=BeautifulSoup(resp.text,'html.parser')\n",
    "\n",
    "    data_summary = soup.find('div', {'class':\"homes summary reversePosition\"})\n",
    "    select_count, total_count = re.findall(r'\\d{1,10}(?:,\\d{1,10})*', data_summary.text)\n",
    "    select_count, total_count = int(select_count), int(total_count.replace(',',''))\n",
    "\n",
    "    soup_boxes = soup.find_all(\"div\",{\"class\":\"HomeCardContainer\"})\n",
    "\n",
    "    return  soup_boxes"
   ]
  },
  {
   "cell_type": "code",
   "execution_count": null,
   "metadata": {},
   "outputs": [
    {
     "name": "stderr",
     "output_type": "stream",
     "text": [
      "/Users/chrisgao/miniforge3/envs/web_scraping/lib/python3.12/site-packages/urllib3/connectionpool.py:1097: InsecureRequestWarning: Unverified HTTPS request is being made to host 'opendata.vancouver.ca'. Adding certificate verification is strongly advised. See: https://urllib3.readthedocs.io/en/latest/advanced-usage.html#tls-warnings\n",
      "  warnings.warn(\n"
     ]
    }
   ],
   "source": [
    "head = head={\"User-Agent\":\"Mozilla/5.0 (Windows NT 10.0; Win64; x64) AppleWebKit/537.36 (KHTML, like Gecko) Chrome/120.0.0.0 Safari/537.36\"}\n",
    "coord_boxes = vancouver_grid(head=head, divisions=15)\n",
    "real_estate_info = defaultdict(list)\n",
    "incomplete_idx = []"
   ]
  },
  {
   "cell_type": "markdown",
   "metadata": {},
   "source": [
    "# Need to get the page number before the for loop to minimize calcuation and avoid error"
   ]
  },
  {
   "cell_type": "code",
   "execution_count": null,
   "metadata": {},
   "outputs": [],
   "source": []
  },
  {
   "cell_type": "code",
   "execution_count": null,
   "metadata": {},
   "outputs": [],
   "source": [
    "top_square: 49.3:49.28:-123.12:-123.14\n",
    "left/top_square:49.28514:49.25232:-123.1678:-123.22548\n",
    "bottom_sqaure: 49.22024:49.20381:-123.12346:-123.1523\n",
    "top_right: 49.29408:49.26126:-123.00855:-123.06623\n",
    "bottom_right: 9.23109:49.19824:-123.01579:-123.07347\n",
    "bottom_left: 49.23167:49.19881:-123.11761:-123.17529"
   ]
  }
 ],
 "metadata": {
  "kernelspec": {
   "display_name": "web_scraping",
   "language": "python",
   "name": "python3"
  },
  "language_info": {
   "codemirror_mode": {
    "name": "ipython",
    "version": 3
   },
   "file_extension": ".py",
   "mimetype": "text/x-python",
   "name": "python",
   "nbconvert_exporter": "python",
   "pygments_lexer": "ipython3",
   "version": "3.12.9"
  }
 },
 "nbformat": 4,
 "nbformat_minor": 2
}
