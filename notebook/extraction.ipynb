{
 "cells": [
  {
   "cell_type": "code",
   "execution_count": 1,
   "metadata": {},
   "outputs": [],
   "source": [
    "import pandas as pd\n",
    "import numpy as np\n",
    "import re\n",
    "import json\n",
    "from collections import defaultdict\n",
    "import requests\n",
    "from bs4 import BeautifulSoup\n",
    "import time"
   ]
  },
  {
   "cell_type": "code",
   "execution_count": 2,
   "metadata": {},
   "outputs": [],
   "source": [
    "def split_coordinate(four_coords, divisions_longs, devision_lats, if_big_box):\n",
    "    \n",
    "    if if_big_box:\n",
    "        [min_latitude, max_latitude, min_longitude, max_longitude] = [float(x) for x in four_coords.split(':')]\n",
    "    else:\n",
    "         [min_latitude, max_latitude, min_longitude, max_longitude] = four_coords\n",
    "\n",
    "    longitude_step = (max_longitude - min_longitude) / divisions_longs\n",
    "    latitude_step = (max_latitude - min_latitude) / devision_lats  # Typo: should be \"divisions_lats\"\n",
    "\n",
    "    coord_boxes = []\n",
    "    \n",
    "    # Generate bounding boxes for each grid cell\n",
    "    for i in range(divisions_longs):\n",
    "        for j in range(devision_lats):\n",
    "            box_min_lat = round(min_latitude + j * latitude_step, 5)\n",
    "            box_max_lat = round(min_latitude + (j + 1) * latitude_step, 5)\n",
    "            box_min_lon = round(min_longitude + i * longitude_step, 5)\n",
    "            box_max_lon = round(min_longitude + (i + 1) * longitude_step, 5)\n",
    "\n",
    "            # Store bounding box as a string in the format \"min_lat:max_lat:min_lon:max_lon\"\n",
    "            box_str = f\"{box_min_lat}:{box_max_lat}:{box_min_lon}:{box_max_lon}\"\n",
    "            coord_boxes.append(box_str)\n",
    "    \n",
    "    return coord_boxes"
   ]
  },
  {
   "cell_type": "code",
   "execution_count": 3,
   "metadata": {},
   "outputs": [],
   "source": [
    "def vancouver_grid(head, divisions_longs, devision_lats):\n",
    "    \"\"\"\n",
    "    Generates a grid of latitude-longitude bounding boxes within Vancouver's city boundary.\n",
    "\n",
    "    Parameters:\n",
    "    head (dict): Headers for the API request.\n",
    "    divisions_longs (int): Number of divisions along the longitude (default is 15).\n",
    "    devision_lats (int): Number of divisions along the latitude (default is 15).\n",
    "\n",
    "    Returns:\n",
    "    list: A list of strings representing bounding boxes in the format \"min_lat:max_lat:min_lon:max_lon\".\n",
    "    \"\"\"\n",
    "    \n",
    "    # API endpoint for Vancouver city boundary geo-coordinates\n",
    "    van_geo_info_url = 'https://opendata.vancouver.ca/api/explore/v2.1/catalog/datasets/city-boundary/records?limit=20'\n",
    "    \n",
    "    # Fetch geographical data from the API\n",
    "    response = requests.get(van_geo_info_url, headers=head)\n",
    "    geo_data = response.json()\n",
    "    \n",
    "    # Extract the city boundary coordinates\n",
    "    contour = geo_data['results'][0]['geom']['geometry']['coordinates']\n",
    "\n",
    "    # Flatten the list of coordinates and extract longitude and latitude values separately\n",
    "    longitudes = [coord[0] for sublist in contour for coord in sublist]\n",
    "    latitudes = [coord[1] for sublist in contour for coord in sublist]\n",
    "\n",
    "    # Determine the minimum and maximum longitude and latitude values\n",
    "    max_longitude = max(longitudes)\n",
    "    min_longitude = min(longitudes)\n",
    "    max_latitude = max(latitudes)\n",
    "    min_latitude = min(latitudes)\n",
    "    four_coords = [min_latitude, max_latitude, min_longitude, max_longitude]\n",
    "\n",
    "    \n",
    "    coord_boxes = split_coordinate(four_coords, divisions_longs, devision_lats, if_big_box = 0)\n",
    " \n",
    "    \n",
    "    return coord_boxes\n"
   ]
  },
  {
   "cell_type": "code",
   "execution_count": 4,
   "metadata": {},
   "outputs": [],
   "source": [
    "def listing_count(head, coord_box):\n",
    "    \"\"\"\n",
    "    Fetches the number of real estate listings within a specified coordinate box from Redfin.\n",
    "\n",
    "    Parameters:\n",
    "    head (dict): Headers for the HTTP request.\n",
    "    coord_box (str): A string representing the bounding box in the format \"min_lat:max_lat:min_lon:max_lon\".\n",
    "\n",
    "    Returns:\n",
    "    tuple: (viewport_url, select_listing_count, total_listing_count)\n",
    "        - viewport_url (str): The URL used for the request.\n",
    "        - select_listing_count (int): The number of listings shown in the current viewport.\n",
    "        - total_listing_count (int): The total number of listings available.\n",
    "        - If no listings are found, returns 'no_listing'.\n",
    "    \"\"\"\n",
    "    \n",
    "    # Construct the URL for the given coordinate box\n",
    "    viewport_url = f\"https://www.redfin.ca/bc/vancouver/filter/viewport={coord_box}\"\n",
    "    \n",
    "    # Send a GET request to fetch the webpage\n",
    "    resp = requests.get(viewport_url, headers=head)\n",
    "\n",
    "    # Raise an error if the request fails (non-200 status code)\n",
    "    if resp.status_code != 200:\n",
    "        raise Exception(\"Failing in webpage requests\")\n",
    "    \n",
    "    # Parse the HTML response using BeautifulSoup\n",
    "    soup = BeautifulSoup(resp.text, 'html.parser')\n",
    "\n",
    "    # Check if the page indicates no listings are available\n",
    "    if soup.find('div', {'class': 'HomeViews reversePosition'}).find('h2'):\n",
    "        return 'no_listing'\n",
    "    \n",
    "    # Extract the listing summary section\n",
    "    listing_summary = soup.find('div', {'class': \"homes summary reversePosition\"})\n",
    "\n",
    "    # Use regex to extract numeric values from the listing summary\n",
    "    select_listing_count, total_listing_count = re.findall(r'\\d{1,10}(?:,\\d{1,10})*', listing_summary.text)\n",
    "    \n",
    "    # Convert extracted strings into integers, handling comma formatting\n",
    "    select_listing_count, total_listing_count = int(select_listing_count), int(total_listing_count.replace(',', ''))\n",
    "    \n",
    "    return viewport_url, select_listing_count, total_listing_count\n"
   ]
  },
  {
   "cell_type": "code",
   "execution_count": 5,
   "metadata": {},
   "outputs": [],
   "source": [
    "def crawling_redfin(head, viewport_url, page):\n",
    "    \"\"\"\n",
    "    Crawls a specific page of real estate listings from Redfin within a given viewport.\n",
    "\n",
    "    Parameters:\n",
    "    head (dict): Headers for the HTTP request.\n",
    "    viewport_url (str): Base URL for the listings search.\n",
    "    page (int): Page number to crawl.\n",
    "\n",
    "    Returns:\n",
    "    list: A list of BeautifulSoup objects representing individual property listings.\n",
    "    \"\"\"\n",
    "    \n",
    "    # Construct the URL for the specified page number\n",
    "    target_url = f\"{viewport_url}/page-{page}\"\n",
    "    \n",
    "    # Send a GET request to fetch the webpage\n",
    "    resp = requests.get(target_url, headers=head)\n",
    "\n",
    "    # Raise an error if the request fails (non-200 status code)\n",
    "    if resp.status_code != 200:\n",
    "        raise Exception(\"Failing in webpage requests\")\n",
    "    \n",
    "    # Parse the HTML response using BeautifulSoup\n",
    "    soup = BeautifulSoup(resp.text, 'html.parser')\n",
    "\n",
    "    # Extract all property listing containers\n",
    "    soup_boxes = soup.find_all(\"div\", {\"class\": \"HomeCardContainer\"})\n",
    "\n",
    "    return soup_boxes"
   ]
  },
  {
   "cell_type": "code",
   "execution_count": 6,
   "metadata": {},
   "outputs": [],
   "source": [
    "def key_metric_extraction(soup_boxes, real_estate_info):\n",
    "    \"\"\"\n",
    "    Extracts key real estate metrics from Redfin listing elements.\n",
    "\n",
    "    Parameters:\n",
    "    soup_boxes (list): A list of BeautifulSoup objects representing property listings.\n",
    "    real_estate_info (dict): A dictionary to store extracted real estate information. \n",
    "                             The dictionary should have keys: 'address', 'zip_code', 'price', \n",
    "                             'bed', 'bath', 'sqr_footage', and 'property_link'.\n",
    "\n",
    "    Returns:\n",
    "    list: A list of indices where data extraction was incomplete.\n",
    "    \"\"\"\n",
    "    \n",
    "    incomplete_idx = []  # Stores indices of listings with missing data\n",
    "\n",
    "    for i, box in enumerate(soup_boxes):\n",
    "        try:\n",
    "            # Extract address (excluding last 23 characters, likely city/state info)\n",
    "            address = box.find('address').text[:(-23)]\n",
    "            real_estate_info['address'].append(address)\n",
    "        except: \n",
    "            real_estate_info['address'].append(np.nan)\n",
    "            incomplete_idx.append(i)\n",
    "\n",
    "        try:\n",
    "            # Extract ZIP code (last 7 characters of address text)\n",
    "            zip_code = box.find('address').text[-7:]\n",
    "            real_estate_info['zip_code'].append(zip_code)\n",
    "        except: \n",
    "            real_estate_info['zip_code'].append(np.nan)\n",
    "            incomplete_idx.append(i)        \n",
    "\n",
    "        try:\n",
    "            # Extract price\n",
    "            price = box.find('span', {'class': 'bp-Homecard__Price--value'}).text\n",
    "            real_estate_info['price'].append(price)\n",
    "        except: \n",
    "            real_estate_info['price'].append(np.nan)\n",
    "            incomplete_idx.append(i)\n",
    "\n",
    "        try:\n",
    "            # Extract number of bedrooms\n",
    "            bed = box.find('span', {'class': 'bp-Homecard__Stats--beds text-nowrap'}).text\n",
    "            real_estate_info['bed'].append(bed)\n",
    "        except: \n",
    "            real_estate_info['bed'].append(np.nan)\n",
    "            incomplete_idx.append(i)   \n",
    "\n",
    "        try:\n",
    "            # Extract number of bathrooms\n",
    "            bath = box.find('span', {'class': 'bp-Homecard__Stats--baths text-nowrap'}).text\n",
    "            real_estate_info['bath'].append(bath)\n",
    "        except: \n",
    "            real_estate_info['bath'].append(np.nan)\n",
    "            incomplete_idx.append(i)   \n",
    "\n",
    "        try:\n",
    "            # Extract square footage (locked stats section)\n",
    "            sqr_footage = box.find('span', {'class': 'bp-Homecard__LockedStat--value'}).text\n",
    "            real_estate_info['sqr_footage'].append(sqr_footage)\n",
    "        except:\n",
    "            real_estate_info['sqr_footage'].append(np.nan)\n",
    "            incomplete_idx.append(i)   \n",
    "\n",
    "        try:\n",
    "            # Extract property link (prepend base URL)\n",
    "            property_link = \"https://www.redfin.com\" + box.find(\"a\").get('href')\n",
    "            real_estate_info['property_link'].append(property_link)\n",
    "        except:\n",
    "            real_estate_info['property_link'].append(np.nan)\n",
    "            incomplete_idx.append(i)\n",
    "\n",
    "    return incomplete_idx\n"
   ]
  },
  {
   "cell_type": "code",
   "execution_count": 7,
   "metadata": {},
   "outputs": [],
   "source": [
    "def calculate_min_pages(total_count, items_per_page):\n",
    "    \"\"\"\n",
    "    Calculates the minimum number of pages required to display all items.\n",
    "\n",
    "    Parameters:\n",
    "    total_count (int): The total number of items to be displayed.\n",
    "    items_per_page (int): The maximum number of items that can be displayed per page.\n",
    "\n",
    "    Returns:\n",
    "    int: The minimum number of pages required.\n",
    "    \"\"\"\n",
    "    \n",
    "    # Use integer division to determine the number of pages needed\n",
    "    # Adding (items_per_page - 1) ensures proper rounding up\n",
    "    return (total_count + items_per_page - 1) // items_per_page"
   ]
  },
  {
   "cell_type": "code",
   "execution_count": null,
   "metadata": {},
   "outputs": [],
   "source": []
  },
  {
   "cell_type": "code",
   "execution_count": null,
   "metadata": {},
   "outputs": [],
   "source": [
    "def extracting_by_batch(head, batch_num, divisions_longs=15, devision_lats=15, splitted_big_box = 0):\n",
    "    \"\"\"\n",
    "    Extracts real estate listing data from Redfin in batches using predefined coordinate grids.\n",
    "\n",
    "    Parameters:\n",
    "    head (dict): Headers for the HTTP requests.\n",
    "    batch_num (int): The number of batches to divide the coordinate boxes into.\n",
    "    test_batch_index (list, optional): The range of batch indices to process. Defaults to [0,1].\n",
    "\n",
    "    Returns:\n",
    "    tuple: (real_estate_info, missing_entries, big_coord_boxes)\n",
    "        - real_estate_info (dict): A dictionary storing extracted real estate information.\n",
    "        - missing_entries (dict): A dictionary tracking missing entries for incomplete pages.\n",
    "        - big_coord_boxes (list): A list of coordinate boxes requiring further subdivision.\n",
    "    \"\"\"\n",
    "    \n",
    "    big_coord_boxes = []  # Stores coordinate boxes where select listing count < total listing count\n",
    "    real_estate_info = defaultdict(list)  # Dictionary to store extracted real estate information\n",
    "    missing_entries = defaultdict(list)  # Dictionary to track missing data entries\n",
    "\n",
    "    # Generate the coordinate grid for Vancouver and split into batches\n",
    "    if splitted_big_box:\n",
    "        coord_boxes = splitted_big_box\n",
    "\n",
    "    else: coord_boxes = vancouver_grid(head, divisions_longs, devision_lats)\n",
    "    \n",
    "    coord_box_batch = np.array_split(coord_boxes, batch_num)\n",
    "\n",
    "    # Iterate over the specified batch range\n",
    "    for i in range(len(coord_box_batch)):\n",
    "        batch = coord_box_batch[i]\n",
    "\n",
    "        # Process each coordinate box in the batch\n",
    "        for coord_box in batch:\n",
    "            listing_info = listing_count(head, coord_box)\n",
    "            time.sleep(1)  # Prevent overwhelming the server\n",
    "\n",
    "            # Skip if there are no listings in the area\n",
    "            if listing_info == 'no_listing':\n",
    "                print(f\"Batch {i}-{coord_box} has no listings.\")\n",
    "                continue\n",
    "            else:\n",
    "                viewport_url, select_listing_count, total_listing_count = listing_info\n",
    "\n",
    "                # If the selected listing count is less than the total, store the coordinate box for further subdivision\n",
    "                if select_listing_count != total_listing_count:\n",
    "                    big_coord_boxes.append(coord_box)\n",
    "                    continue\n",
    "                else:\n",
    "                    # Calculate the number of pages to crawl based on listings per page (assumed 9 per page)\n",
    "                    max_page = calculate_min_pages(select_listing_count, items_per_page=9)\n",
    "                    missing = defaultdict(list)  # Tracks missing indices for this coordinate box\n",
    "\n",
    "                    # Crawl and extract data for each page\n",
    "                    for page in range(1, max_page):\n",
    "                        soup_boxes = crawling_redfin(head, viewport_url, page)                        \n",
    "                        incomplete_idx = key_metric_extraction(soup_boxes, real_estate_info)\n",
    "\n",
    "                        # Store any missing data indices\n",
    "                        if incomplete_idx:\n",
    "                            missing[f'page_{page}'].append(incomplete_idx)\n",
    "\n",
    "                        time.sleep(1)  # Prevent overwhelming the server\n",
    "\n",
    "                    # Store missing entries for this coordinate box\n",
    "                    missing_entries[coord_box].append(missing)\n",
    "\n",
    "    return real_estate_info, missing_entries, big_coord_boxes"
   ]
  },
  {
   "cell_type": "code",
   "execution_count": 9,
   "metadata": {},
   "outputs": [
    {
     "name": "stdout",
     "output_type": "stream",
     "text": [
      "Batch 0-49.19835:49.21799:-123.22479:-123.19118 has no listings.\n",
      "Batch 0-49.21799:49.23762:-123.22479:-123.19118 has no listings.\n",
      "Batch 0-49.2769:49.29654:-123.22479:-123.19118 has no listings.\n",
      "Batch 0-49.29654:49.31617:-123.22479:-123.19118 has no listings.\n",
      "Batch 0-49.19835:49.21799:-123.19118:-123.15758 has no listings.\n",
      "Batch 1-49.2769:49.29654:-123.19118:-123.15758 has no listings.\n",
      "Batch 1-49.29654:49.31617:-123.19118:-123.15758 has no listings.\n",
      "Batch 2-49.29654:49.31617:-123.15758:-123.12397 has no listings.\n",
      "Batch 3-49.29654:49.31617:-123.12397:-123.09036 has no listings.\n",
      "Batch 4-49.29654:49.31617:-123.09036:-123.05676 has no listings.\n",
      "Batch 4-49.29654:49.31617:-123.05676:-123.02315 has no listings.\n"
     ]
    }
   ],
   "source": [
    "head = {\"User-Agent\":\"Mozilla/5.0 (Windows NT 10.0; Win64; x64) AppleWebKit/537.36 (KHTML, like Gecko) Chrome/120.0.0.0 Safari/537.36\"}\n",
    "real_estate_info, missing_entries, big_coord_boxes = extracting_by_batch(head, batch_num=5, divisions_longs=6, devision_lats=6)"
   ]
  },
  {
   "cell_type": "code",
   "execution_count": 11,
   "metadata": {},
   "outputs": [
    {
     "data": {
      "text/html": [
       "<div>\n",
       "<style scoped>\n",
       "    .dataframe tbody tr th:only-of-type {\n",
       "        vertical-align: middle;\n",
       "    }\n",
       "\n",
       "    .dataframe tbody tr th {\n",
       "        vertical-align: top;\n",
       "    }\n",
       "\n",
       "    .dataframe thead th {\n",
       "        text-align: right;\n",
       "    }\n",
       "</style>\n",
       "<table border=\"1\" class=\"dataframe\">\n",
       "  <thead>\n",
       "    <tr style=\"text-align: right;\">\n",
       "      <th></th>\n",
       "      <th>address</th>\n",
       "      <th>zip_code</th>\n",
       "      <th>price</th>\n",
       "      <th>bed</th>\n",
       "      <th>bath</th>\n",
       "      <th>sqr_footage</th>\n",
       "      <th>property_link</th>\n",
       "    </tr>\n",
       "  </thead>\n",
       "  <tbody>\n",
       "    <tr>\n",
       "      <th>0</th>\n",
       "      <td>4091 W 34th Ave</td>\n",
       "      <td>V6N 2L6</td>\n",
       "      <td>$2,788,000</td>\n",
       "      <td>5 beds</td>\n",
       "      <td>2 baths</td>\n",
       "      <td>1,653</td>\n",
       "      <td>https://www.redfin.com/bc/vancouver/4091-W-34t...</td>\n",
       "    </tr>\n",
       "    <tr>\n",
       "      <th>1</th>\n",
       "      <td>4067 W 37th Ave</td>\n",
       "      <td>V6N 2W6</td>\n",
       "      <td>$4,800,000</td>\n",
       "      <td>6 beds</td>\n",
       "      <td>4 baths</td>\n",
       "      <td>4,189</td>\n",
       "      <td>https://www.redfin.com/bc/vancouver/4067-W-37t...</td>\n",
       "    </tr>\n",
       "    <tr>\n",
       "      <th>2</th>\n",
       "      <td>4056 W 36th Ave</td>\n",
       "      <td>V6N 2S9</td>\n",
       "      <td>$6,750,000</td>\n",
       "      <td>4 beds</td>\n",
       "      <td>3 baths</td>\n",
       "      <td>3,837</td>\n",
       "      <td>https://www.redfin.com/bc/vancouver/4056-W-36t...</td>\n",
       "    </tr>\n",
       "    <tr>\n",
       "      <th>3</th>\n",
       "      <td>3968 W 23rd Ave</td>\n",
       "      <td>V6S 1L2</td>\n",
       "      <td>$3,388,000</td>\n",
       "      <td>4 beds</td>\n",
       "      <td>3.5 baths</td>\n",
       "      <td>2,359</td>\n",
       "      <td>https://www.redfin.com/bc/vancouver/3968-W-23r...</td>\n",
       "    </tr>\n",
       "    <tr>\n",
       "      <th>4</th>\n",
       "      <td>4022 W 30th Ave</td>\n",
       "      <td>V6S 1X5</td>\n",
       "      <td>$6,590,000</td>\n",
       "      <td>5 beds</td>\n",
       "      <td>5.5 baths</td>\n",
       "      <td>4,190</td>\n",
       "      <td>https://www.redfin.com/bc/vancouver/4022-W-30t...</td>\n",
       "    </tr>\n",
       "    <tr>\n",
       "      <th>...</th>\n",
       "      <td>...</td>\n",
       "      <td>...</td>\n",
       "      <td>...</td>\n",
       "      <td>...</td>\n",
       "      <td>...</td>\n",
       "      <td>...</td>\n",
       "      <td>...</td>\n",
       "    </tr>\n",
       "    <tr>\n",
       "      <th>8322</th>\n",
       "      <td>2871 E Pender St</td>\n",
       "      <td>V5K 2C1</td>\n",
       "      <td>$2,380,000</td>\n",
       "      <td>5 beds</td>\n",
       "      <td>2 baths</td>\n",
       "      <td>1,613</td>\n",
       "      <td>https://www.redfin.com/bc/vancouver/2871-E-Pen...</td>\n",
       "    </tr>\n",
       "    <tr>\n",
       "      <th>8323</th>\n",
       "      <td>3635 Turner St #1</td>\n",
       "      <td>V5K 2K2</td>\n",
       "      <td>$1,469,600</td>\n",
       "      <td>3 beds</td>\n",
       "      <td>3.5 baths</td>\n",
       "      <td>1,336</td>\n",
       "      <td>https://www.redfin.com/bc/vancouver/3635-Turne...</td>\n",
       "    </tr>\n",
       "    <tr>\n",
       "      <th>8324</th>\n",
       "      <td>3615 Yale St</td>\n",
       "      <td>V5K 1C8</td>\n",
       "      <td>$2,278,000</td>\n",
       "      <td>7 beds</td>\n",
       "      <td>5 baths</td>\n",
       "      <td>2,930</td>\n",
       "      <td>https://www.redfin.com/bc/vancouver/3615-Yale-...</td>\n",
       "    </tr>\n",
       "    <tr>\n",
       "      <th>8325</th>\n",
       "      <td>2656 Adanac St</td>\n",
       "      <td>V5K 2M7</td>\n",
       "      <td>$1,599,000</td>\n",
       "      <td>4 beds</td>\n",
       "      <td>1 bath</td>\n",
       "      <td>1,900</td>\n",
       "      <td>https://www.redfin.com/bc/vancouver/2656-Adana...</td>\n",
       "    </tr>\n",
       "    <tr>\n",
       "      <th>8326</th>\n",
       "      <td>2520 E Pender St</td>\n",
       "      <td>V5K 2B5</td>\n",
       "      <td>$1,899,000</td>\n",
       "      <td>0 beds</td>\n",
       "      <td>2 baths</td>\n",
       "      <td>1,655</td>\n",
       "      <td>https://www.redfin.com/bc/vancouver/2520-E-Pen...</td>\n",
       "    </tr>\n",
       "  </tbody>\n",
       "</table>\n",
       "<p>8327 rows × 7 columns</p>\n",
       "</div>"
      ],
      "text/plain": [
       "                address zip_code       price     bed       bath sqr_footage  \\\n",
       "0       4091 W 34th Ave  V6N 2L6  $2,788,000  5 beds    2 baths      1,653    \n",
       "1       4067 W 37th Ave  V6N 2W6  $4,800,000  6 beds    4 baths      4,189    \n",
       "2       4056 W 36th Ave  V6N 2S9  $6,750,000  4 beds    3 baths      3,837    \n",
       "3       3968 W 23rd Ave  V6S 1L2  $3,388,000  4 beds  3.5 baths      2,359    \n",
       "4       4022 W 30th Ave  V6S 1X5  $6,590,000  5 beds  5.5 baths      4,190    \n",
       "...                 ...      ...         ...     ...        ...         ...   \n",
       "8322   2871 E Pender St  V5K 2C1  $2,380,000  5 beds    2 baths      1,613    \n",
       "8323  3635 Turner St #1  V5K 2K2  $1,469,600  3 beds  3.5 baths      1,336    \n",
       "8324       3615 Yale St  V5K 1C8  $2,278,000  7 beds    5 baths      2,930    \n",
       "8325     2656 Adanac St  V5K 2M7  $1,599,000  4 beds     1 bath      1,900    \n",
       "8326   2520 E Pender St  V5K 2B5  $1,899,000  0 beds    2 baths      1,655    \n",
       "\n",
       "                                          property_link  \n",
       "0     https://www.redfin.com/bc/vancouver/4091-W-34t...  \n",
       "1     https://www.redfin.com/bc/vancouver/4067-W-37t...  \n",
       "2     https://www.redfin.com/bc/vancouver/4056-W-36t...  \n",
       "3     https://www.redfin.com/bc/vancouver/3968-W-23r...  \n",
       "4     https://www.redfin.com/bc/vancouver/4022-W-30t...  \n",
       "...                                                 ...  \n",
       "8322  https://www.redfin.com/bc/vancouver/2871-E-Pen...  \n",
       "8323  https://www.redfin.com/bc/vancouver/3635-Turne...  \n",
       "8324  https://www.redfin.com/bc/vancouver/3615-Yale-...  \n",
       "8325  https://www.redfin.com/bc/vancouver/2656-Adana...  \n",
       "8326  https://www.redfin.com/bc/vancouver/2520-E-Pen...  \n",
       "\n",
       "[8327 rows x 7 columns]"
      ]
     },
     "execution_count": 11,
     "metadata": {},
     "output_type": "execute_result"
    }
   ],
   "source": [
    "result = pd.DataFrame(real_estate_info)\n",
    "result"
   ]
  },
  {
   "cell_type": "code",
   "execution_count": 14,
   "metadata": {},
   "outputs": [],
   "source": [
    "result.to_csv(\"../data/vancouver_real_estate.csv\")"
   ]
  },
  {
   "cell_type": "code",
   "execution_count": 15,
   "metadata": {},
   "outputs": [
    {
     "data": {
      "text/plain": [
       "[np.str_('49.25726:49.2769:-123.15758:-123.12397'),\n",
       " np.str_('49.2769:49.29654:-123.15758:-123.12397'),\n",
       " np.str_('49.25726:49.2769:-123.12397:-123.09036'),\n",
       " np.str_('49.2769:49.29654:-123.12397:-123.09036')]"
      ]
     },
     "execution_count": 15,
     "metadata": {},
     "output_type": "execute_result"
    }
   ],
   "source": [
    "big_coord_boxes"
   ]
  },
  {
   "cell_type": "code",
   "execution_count": 27,
   "metadata": {},
   "outputs": [
    {
     "data": {
      "text/plain": [
       "['49.25726:49.2769:-123.15758:-123.14077',\n",
       " '49.25726:49.2769:-123.14077:-123.12397',\n",
       " '49.2769:49.29654:-123.15758:-123.14077',\n",
       " '49.2769:49.29654:-123.14077:-123.12397',\n",
       " '49.25726:49.2769:-123.12397:-123.10717',\n",
       " '49.25726:49.2769:-123.10717:-123.09036',\n",
       " '49.2769:49.29654:-123.12397:-123.10717',\n",
       " '49.2769:49.29654:-123.10717:-123.09036']"
      ]
     },
     "execution_count": 27,
     "metadata": {},
     "output_type": "execute_result"
    }
   ],
   "source": [
    "further_splitted = []\n",
    "for big_box in big_coord_boxes:\n",
    "    boxes = split_coordinate(big_box, divisions_longs=2, devision_lats=1, if_big_box=1)\n",
    "    further_splitted.append(boxes)\n",
    "further_splitted = [x for xs in further_splitted for x in xs]\n",
    "further_splitted"
   ]
  },
  {
   "cell_type": "code",
   "execution_count": null,
   "metadata": {},
   "outputs": [],
   "source": [
    "    \n",
    "    incomplete_idx = []  # Stores indices of listings with missing data\n",
    "\n",
    "    for i, box in enumerate(soup_boxes):\n",
    "        try:\n",
    "            # Extract address (excluding last 23 characters, likely city/state info)\n",
    "            address = box.find('address').text[:(-23)]\n",
    "            real_estate_info['address'].append(address)\n",
    "        except: \n",
    "            real_estate_info['address'].append(np.nan)\n",
    "            incomplete_idx.append(i)\n",
    "\n",
    "        try:\n",
    "            # Extract ZIP code (last 7 characters of address text)\n",
    "            zip_code = box.find('address').text[-7:]\n",
    "            real_estate_info['zip_code'].append(zip_code)\n",
    "        except: \n",
    "            real_estate_info['zip_code'].append(np.nan)\n",
    "            incomplete_idx.append(i)        \n",
    "\n",
    "        try:\n",
    "            # Extract price\n",
    "            price = box.find('span', {'class': 'bp-Homecard__Price--value'}).text\n",
    "            real_estate_info['price'].append(price)\n",
    "        except: \n",
    "            real_estate_info['price'].append(np.nan)\n",
    "            incomplete_idx.append(i)\n",
    "\n",
    "        try:\n",
    "            # Extract number of bedrooms\n",
    "            bed = box.find('span', {'class': 'bp-Homecard__Stats--beds text-nowrap'}).text\n",
    "            real_estate_info['bed'].append(bed)\n",
    "        except: \n",
    "            real_estate_info['bed'].append(np.nan)\n",
    "            incomplete_idx.append(i)   \n",
    "\n",
    "        try:\n",
    "            # Extract number of bathrooms\n",
    "            bath = box.find('span', {'class': 'bp-Homecard__Stats--baths text-nowrap'}).text\n",
    "            real_estate_info['bath'].append(bath)\n",
    "        except: \n",
    "            real_estate_info['bath'].append(np.nan)\n",
    "            incomplete_idx.append(i)   \n",
    "\n",
    "        try:\n",
    "            # Extract square footage (locked stats section)\n",
    "            sqr_footage = box.find('span', {'class': 'bp-Homecard__LockedStat--value'}).text\n",
    "            real_estate_info['sqr_footage'].append(sqr_footage)\n",
    "        except:\n",
    "            real_estate_info['sqr_footage'].append(np.nan)\n",
    "            incomplete_idx.append(i)   \n",
    "\n",
    "        try:\n",
    "            # Extract property link (prepend base URL)\n",
    "            property_link = \"https://www.redfin.com\" + box.find(\"a\").get('href')\n",
    "            real_estate_info['property_link'].append(property_link)\n",
    "        except:\n",
    "            real_estate_info['property_link'].append(np.nan)\n",
    "            incomplete_idx.append(i)"
   ]
  },
  {
   "cell_type": "code",
   "execution_count": null,
   "metadata": {},
   "outputs": [],
   "source": [
    "pinpoints_info = defaultdict(list)\n",
    "incomplete_idx = []\n",
    "def extract_long_lat(head, link):\n",
    "    resp = requests.get(link, headers=head)\n",
    "    return resp\n",
    "    # if resp.status_code != 200:\n",
    "    #     raise Exception(\"Failing in webpage requests\")\n",
    "    # else:\n",
    "    #     soup = BeautifulSoup(resp.text, 'html.parser')\n",
    "    #     info_list = soup.find_all('script', type='application/ld+json')\n",
    "        # for info in info_list:\n",
    "        #     info = json.loads(info.string)[0]\n",
    "            # try: \n",
    "            #     address = info.get('address').get('streetAddress')\n",
    "            #     pinpoints_info['address'].append(address)\n",
    "            # except:\n",
    "            #     pinpoints_info['address'].append(np.nan)\n",
    "            #     incomplete_idx.append(i)\n",
    "            # try:\n",
    "            #     lat = info.get('geo').get('latitude')\n",
    "            #     pinpoints_info['latitude'].append(lat)\n",
    "            # except:\n",
    "            #     pinpoints_info['latitude'].append(np.nan)\n",
    "            #     incomplete_idx.append(i)\n",
    "            # try:\n",
    "            #     long = info.get('geo').get('longitude')\n",
    "            #     pinpoints_info['longitude'].append(long)\n",
    "            # except:\n",
    "            #     pinpoints_info['longitude'].append(np.nan)\n",
    "            #     incomplete_idx.append(i)\n",
    "            # try:\n",
    "            #     region = info.get('address').get('addressLocality')\n",
    "            #     pinpoints_info['region'].append(region)\n",
    "            # except:\n",
    "            #     pinpoints_info['region'].append(np.nan)\n",
    "            #     incomplete_idx.append(i)\n",
    "            # try:\n",
    "            #     zip_code = info.get('address').get('postalCode')\n",
    "            #     pinpoints_info['zip_code'].append(zip_code)\n",
    "            # except:\n",
    "            #     pinpoints_info['zip_code'].append(np.nan)\n",
    "            #     incomplete_idx.append(i)\n",
    "            # try:\n",
    "            #     square_footage = info.get('floorSize').get('value')\n",
    "            #     pinpoints_info['square_footage'].append(square_footage)\n",
    "            # except:\n",
    "            #     pinpoints_info['square_footage'].append(np.nan)\n",
    "            #     incomplete_idx.append(i)\n",
    "            # try:\n",
    "            #     bedroom = info.get('numberOfRooms')\n",
    "            #     pinpoints_info['bedroom'].append(bedroom)\n",
    "            # except:\n",
    "            #     pinpoints_info['bedroom'].append(np.nan)\n",
    "            #     incomplete_idx.append(i)\n",
    "            # try:\n",
    "            #     url = info.get('url')\n",
    "            #     pinpoints_info['url'].append(url)\n",
    "            # except:\n",
    "            #     pinpoints_info['url'].append(np.nan)\n",
    "            #     incomplete_idx.append(i)\n",
    "\n"
   ]
  },
  {
   "cell_type": "code",
   "execution_count": 31,
   "metadata": {},
   "outputs": [
    {
     "data": {
      "text/plain": [
       "[<script type=\"application/ld+json\">{\"@context\":\"http://schema.org\",\"@type\":\"Organization\",\"name\":\"Redfin\",\"logo\":\"https://ssl.cdn-redfin.com/v569.2.2/images/redfin-logo-transparent-bg-260x66.png\",\"url\":\"https://www.redfin.ca\"}</script>,\n",
       " <script type=\"application/ld+json\">[{\"@context\":\"http://schema.org\",\"name\":\"3092 W 38th Ave, Vancouver, BC V6N 2X3\",\"url\":\"https://www.redfin.ca/bc/vancouver/3092-W-38th-Ave-V6N-2X3/home/156071606\",\"address\":{\"@type\":\"PostalAddress\",\"streetAddress\":\"3092 W 38th Ave\",\"addressLocality\":\"Vancouver\",\"addressRegion\":\"BC\",\"postalCode\":\"V6N 2X3\",\"addressCountry\":\"CA\"},\"geo\":{\"@type\":\"GeoCoordinates\",\"latitude\":49.2373532,\"longitude\":-123.1743535},\"numberOfRooms\":5,\"floorSize\":{\"@type\":\"QuantitativeValue\",\"value\":3295,\"unitCode\":\"FTK\"},\"@type\":\"SingleFamilyResidence\"},{\"@context\":\"http://schema.org\",\"@type\":\"Product\",\"name\":\"3092 W 38th Ave, Vancouver, BC V6N 2X3\",\"offers\":{\"@type\":\"Offer\",\"price\":3498000,\"priceCurrency\":\"CAD\"},\"url\":\"https://www.redfin.ca/bc/vancouver/3092-W-38th-Ave-V6N-2X3/home/156071606\"}]</script>,\n",
       " <script type=\"application/ld+json\">[{\"@context\":\"http://schema.org\",\"name\":\"219 E Georgia St #303, Vancouver, BC V6A 1Z6\",\"url\":\"https://www.redfin.ca/bc/vancouver/219-E-Georgia-St-V6A-1Z6/unit-303/home/154994689\",\"address\":{\"@type\":\"PostalAddress\",\"streetAddress\":\"219 E Georgia St #303\",\"addressLocality\":\"Vancouver\",\"addressRegion\":\"BC\",\"postalCode\":\"V6A 1Z6\",\"addressCountry\":\"CA\"},\"geo\":{\"@type\":\"GeoCoordinates\",\"latitude\":49.2788121,\"longitude\":-123.0989279},\"numberOfRooms\":1,\"floorSize\":{\"@type\":\"QuantitativeValue\",\"value\":495,\"unitCode\":\"FTK\"},\"@type\":\"SingleFamilyResidence\"},{\"@context\":\"http://schema.org\",\"@type\":\"Product\",\"name\":\"219 E Georgia St #303, Vancouver, BC V6A 1Z6\",\"offers\":{\"@type\":\"Offer\",\"price\":519000,\"priceCurrency\":\"CAD\"},\"url\":\"https://www.redfin.ca/bc/vancouver/219-E-Georgia-St-V6A-1Z6/unit-303/home/154994689\"}]</script>,\n",
       " <script type=\"application/ld+json\">[{\"@context\":\"http://schema.org\",\"name\":\"231 E Pender St #404, Vancouver, BC V6A 0G3\",\"url\":\"https://www.redfin.ca/bc/vancouver/231-E-Pender-St-V6A-0G3/unit-404/home/168610582\",\"address\":{\"@type\":\"PostalAddress\",\"streetAddress\":\"231 E Pender St #404\",\"addressLocality\":\"Vancouver\",\"addressRegion\":\"BC\",\"postalCode\":\"V6A 0G3\",\"addressCountry\":\"CA\"},\"geo\":{\"@type\":\"GeoCoordinates\",\"latitude\":49.2804685,\"longitude\":-123.0986982},\"numberOfRooms\":0,\"floorSize\":{\"@type\":\"QuantitativeValue\",\"value\":505,\"unitCode\":\"FTK\"},\"@type\":\"SingleFamilyResidence\"},{\"@context\":\"http://schema.org\",\"@type\":\"Product\",\"name\":\"231 E Pender St #404, Vancouver, BC V6A 0G3\",\"offers\":{\"@type\":\"Offer\",\"price\":459000,\"priceCurrency\":\"CAD\"},\"url\":\"https://www.redfin.ca/bc/vancouver/231-E-Pender-St-V6A-0G3/unit-404/home/168610582\"}]</script>,\n",
       " <script type=\"application/ld+json\">[{\"@context\":\"http://schema.org\",\"name\":\"1119 Shavington St, North Vancouver, BC V7L 1K7\",\"url\":\"https://www.redfin.ca/bc/north-vancouver/1119-Shavington-St-V7L-1K7/home/157165276\",\"address\":{\"@type\":\"PostalAddress\",\"streetAddress\":\"1119 Shavington St\",\"addressLocality\":\"North Vancouver\",\"addressRegion\":\"BC\",\"postalCode\":\"V7L 1K7\",\"addressCountry\":\"CA\"},\"geo\":{\"@type\":\"GeoCoordinates\",\"latitude\":49.3131968,\"longitude\":-123.0437459},\"numberOfRooms\":4,\"floorSize\":{\"@type\":\"QuantitativeValue\",\"value\":2552,\"unitCode\":\"FTK\"},\"@type\":\"SingleFamilyResidence\"},{\"@context\":\"http://schema.org\",\"@type\":\"Product\",\"name\":\"1119 Shavington St, North Vancouver, BC V7L 1K7\",\"offers\":{\"@type\":\"Offer\",\"price\":1799000,\"priceCurrency\":\"CAD\"},\"url\":\"https://www.redfin.ca/bc/north-vancouver/1119-Shavington-St-V7L-1K7/home/157165276\"}]</script>,\n",
       " <script type=\"application/ld+json\">{\"@context\":\"http://schema.org\",\"@type\":\"Event\",\"startDate\":\"2025-04-09T17:00:00.000Z\",\"endDate\":\"2025-04-09T19:00:00.000Z\",\"name\":\"Open House - 10:00 - 12:00 PM\",\"url\":\"https://www.redfin.ca/bc/north-vancouver/1119-Shavington-St-V7L-1K7/home/157165276\",\"description\":\"Check out an open house at 1119 Shavington St.\",\"offers\":{\"@type\":\"offer\",\"price\":1799000,\"priceCurrency\":\"CAD\",\"availability\":\"http://schema.org/InStock\",\"URL\":\"https://www.redfin.ca/bc/north-vancouver/1119-Shavington-St-V7L-1K7/home/157165276\",\"validFrom\":\"2025-04-09T17:00:00.000Z\"},\"performer\":{\"@type\":\"Thing\",\"name\":\"\"},\"location\":{\"@type\":\"Place\",\"name\":\"1119 Shavington St\",\"geo\":{\"@type\":\"GeoCoordinates\",\"latitude\":49.3131968,\"longitude\":-123.0437459},\"address\":{\"@type\":\"PostalAddress\",\"streetAddress\":\"1119 Shavington St\",\"addressLocality\":\"North Vancouver\",\"postalCode\":\"V7L 1K7\",\"addressRegion\":\"BC\",\"addressCountry\":\"CA\"}}}</script>,\n",
       " <script type=\"application/ld+json\">[{\"@context\":\"http://schema.org\",\"name\":\"125 Milross Ave #508, Vancouver, BC V6A 0A1\",\"url\":\"https://www.redfin.ca/bc/vancouver/125-Milross-Ave-V6A-0A1/unit-508/home/168614747\",\"address\":{\"@type\":\"PostalAddress\",\"streetAddress\":\"125 Milross Ave #508\",\"addressLocality\":\"Vancouver\",\"addressRegion\":\"BC\",\"postalCode\":\"V6A 0A1\",\"addressCountry\":\"CA\"},\"geo\":{\"@type\":\"GeoCoordinates\",\"latitude\":49.276283,\"longitude\":-123.1016621},\"numberOfRooms\":2,\"floorSize\":{\"@type\":\"QuantitativeValue\",\"value\":750,\"unitCode\":\"FTK\"},\"@type\":\"SingleFamilyResidence\"},{\"@context\":\"http://schema.org\",\"@type\":\"Product\",\"name\":\"125 Milross Ave #508, Vancouver, BC V6A 0A1\",\"offers\":{\"@type\":\"Offer\",\"price\":850000,\"priceCurrency\":\"CAD\"},\"url\":\"https://www.redfin.ca/bc/vancouver/125-Milross-Ave-V6A-0A1/unit-508/home/168614747\"}]</script>,\n",
       " <script type=\"application/ld+json\">{\"@context\":\"http://schema.org\",\"@type\":\"Event\",\"name\":\"3D Walkthrough - 125 Milross Ave #508, Vancouver, BC V6A 0A1\",\"startDate\":\"2025-04-07\",\"url\":\"https://www.redfin.ca/bc/vancouver/125-Milross-Ave-V6A-0A1/unit-508/home/168614747\",\"eventAttendanceMode\":\"http://schema.org/OnlineEventAttendanceMode\",\"eventStatus\":\"http://schema.org/EventMovedOnline\",\"location\":[{\"@type\":\"VirtualLocation\",\"url\":\"https://www.redfin.ca/bc/vancouver/125-Milross-Ave-V6A-0A1/unit-508/home/168614747\"},{\"@type\":\"Place\",\"name\":\"125 Milross Ave #508, Vancouver, BC V6A 0A1\",\"geo\":{\"@type\":\"GeoCoordinates\",\"latitude\":49.276283,\"longitude\":-123.1016621},\"address\":{\"@type\":\"PostalAddress\",\"streetAddress\":\"125 Milross Ave #508\",\"addressLocality\":\"Vancouver\",\"postalCode\":\"V6A 0A1\",\"addressRegion\":\"BC\",\"addressCountry\":\"CA\"}}]}</script>,\n",
       " <script type=\"application/ld+json\">[{\"@context\":\"http://schema.org\",\"name\":\"5248 Inverness St, Vancouver, BC V5W 3N8\",\"url\":\"https://www.redfin.ca/bc/vancouver/5248-Inverness-St-V5W-3N8/home/155429635\",\"address\":{\"@type\":\"PostalAddress\",\"streetAddress\":\"5248 Inverness St\",\"addressLocality\":\"Vancouver\",\"addressRegion\":\"BC\",\"postalCode\":\"V5W 3N8\",\"addressCountry\":\"CA\"},\"geo\":{\"@type\":\"GeoCoordinates\",\"latitude\":49.2373162,\"longitude\":-123.0799925},\"numberOfRooms\":6,\"floorSize\":{\"@type\":\"QuantitativeValue\",\"value\":2468,\"unitCode\":\"FTK\"},\"@type\":\"SingleFamilyResidence\"},{\"@context\":\"http://schema.org\",\"@type\":\"Product\",\"name\":\"5248 Inverness St, Vancouver, BC V5W 3N8\",\"offers\":{\"@type\":\"Offer\",\"price\":2348000,\"priceCurrency\":\"CAD\"},\"url\":\"https://www.redfin.ca/bc/vancouver/5248-Inverness-St-V5W-3N8/home/155429635\"}]</script>,\n",
       " <script type=\"application/ld+json\">[{\"@context\":\"http://schema.org\",\"name\":\"1189 Melville St #4202, Vancouver, BC V6E 4T8\",\"url\":\"https://www.redfin.ca/bc/vancouver/1189-Melville-St-V6E-4T8/unit-4202/home/155091667\",\"address\":{\"@type\":\"PostalAddress\",\"streetAddress\":\"1189 Melville St #4202\",\"addressLocality\":\"Vancouver\",\"addressRegion\":\"BC\",\"postalCode\":\"V6E 4T8\",\"addressCountry\":\"CA\"},\"geo\":{\"@type\":\"GeoCoordinates\",\"latitude\":49.2878035,\"longitude\":-123.1236423},\"numberOfRooms\":2,\"floorSize\":{\"@type\":\"QuantitativeValue\",\"value\":882,\"unitCode\":\"FTK\"},\"@type\":\"SingleFamilyResidence\"},{\"@context\":\"http://schema.org\",\"@type\":\"Product\",\"name\":\"1189 Melville St #4202, Vancouver, BC V6E 4T8\",\"offers\":{\"@type\":\"Offer\",\"price\":1499000,\"priceCurrency\":\"CAD\"},\"url\":\"https://www.redfin.ca/bc/vancouver/1189-Melville-St-V6E-4T8/unit-4202/home/155091667\"}]</script>,\n",
       " <script type=\"application/ld+json\">[{\"@context\":\"http://schema.org\",\"name\":\"2248 E 48th Ave #1, Vancouver, BC V5P 1S1\",\"url\":\"https://www.redfin.ca/bc/vancouver/2248-E-48th-Ave-V5P-1S1/unit-1/home/194480469\",\"address\":{\"@type\":\"PostalAddress\",\"streetAddress\":\"2248 E 48th Ave #1\",\"addressLocality\":\"Vancouver\",\"addressRegion\":\"BC\",\"postalCode\":\"V5P 1S1\",\"addressCountry\":\"CA\"},\"geo\":{\"@type\":\"GeoCoordinates\",\"latitude\":49.2260412,\"longitude\":-123.0610199},\"numberOfRooms\":4,\"floorSize\":{\"@type\":\"QuantitativeValue\",\"value\":1560,\"unitCode\":\"FTK\"},\"@type\":\"SingleFamilyResidence\"},{\"@context\":\"http://schema.org\",\"@type\":\"Product\",\"name\":\"2248 E 48th Ave #1, Vancouver, BC V5P 1S1\",\"offers\":{\"@type\":\"Offer\",\"price\":1638000,\"priceCurrency\":\"CAD\"},\"url\":\"https://www.redfin.ca/bc/vancouver/2248-E-48th-Ave-V5P-1S1/unit-1/home/194480469\"}]</script>,\n",
       " <script type=\"application/ld+json\">[{\"@context\":\"http://schema.org\",\"name\":\"8080 Cambie Rd #525, Richmond, BC V6X 0C1\",\"url\":\"https://www.redfin.ca/bc/richmond/8080-Cambie-Rd-V6X-0C1/unit-525/home/156106758\",\"address\":{\"@type\":\"PostalAddress\",\"streetAddress\":\"8080 Cambie Rd #525\",\"addressLocality\":\"Richmond\",\"addressRegion\":\"BC\",\"postalCode\":\"V6X 0C1\",\"addressCountry\":\"CA\"},\"geo\":{\"@type\":\"GeoCoordinates\",\"latitude\":49.1845328,\"longitude\":-123.1352534},\"numberOfRooms\":1,\"floorSize\":{\"@type\":\"QuantitativeValue\",\"value\":715,\"unitCode\":\"FTK\"},\"@type\":\"SingleFamilyResidence\"},{\"@context\":\"http://schema.org\",\"@type\":\"Product\",\"name\":\"8080 Cambie Rd #525, Richmond, BC V6X 0C1\",\"offers\":{\"@type\":\"Offer\",\"price\":668000,\"priceCurrency\":\"CAD\"},\"url\":\"https://www.redfin.ca/bc/richmond/8080-Cambie-Rd-V6X-0C1/unit-525/home/156106758\"}]</script>,\n",
       " <script type=\"application/ld+json\">[{\"@context\":\"http://schema.org\",\"name\":\"1960 Rufus Dr #9, North Vancouver, BC V7J 3L7\",\"url\":\"https://www.redfin.ca/bc/north-vancouver/1960-Rufus-Dr-V7J-3L7/unit-9/home/157044132\",\"address\":{\"@type\":\"PostalAddress\",\"streetAddress\":\"1960 Rufus Dr #9\",\"addressLocality\":\"North Vancouver\",\"addressRegion\":\"BC\",\"postalCode\":\"V7J 3L7\",\"addressCountry\":\"CA\"},\"geo\":{\"@type\":\"GeoCoordinates\",\"latitude\":49.3265345,\"longitude\":-123.0458441},\"numberOfRooms\":3,\"floorSize\":{\"@type\":\"QuantitativeValue\",\"value\":1812,\"unitCode\":\"FTK\"},\"@type\":\"SingleFamilyResidence\"},{\"@context\":\"http://schema.org\",\"@type\":\"Product\",\"name\":\"1960 Rufus Dr #9, North Vancouver, BC V7J 3L7\",\"offers\":{\"@type\":\"Offer\",\"price\":1198000,\"priceCurrency\":\"CAD\"},\"url\":\"https://www.redfin.ca/bc/north-vancouver/1960-Rufus-Dr-V7J-3L7/unit-9/home/157044132\"}]</script>,\n",
       " <script type=\"application/ld+json\">[{\"@context\":\"http://schema.org\",\"name\":\"1331 Alberni St #3001, Vancouver, BC V6E 4S1\",\"url\":\"https://www.redfin.ca/bc/vancouver/1331-Alberni-St-V6E-4S1/unit-3001/home/155244242\",\"address\":{\"@type\":\"PostalAddress\",\"streetAddress\":\"1331 Alberni St #3001\",\"addressLocality\":\"Vancouver\",\"addressRegion\":\"BC\",\"postalCode\":\"V6E 4S1\",\"addressCountry\":\"CA\"},\"geo\":{\"@type\":\"GeoCoordinates\",\"latitude\":49.2881788,\"longitude\":-123.1277554},\"numberOfRooms\":2,\"floorSize\":{\"@type\":\"QuantitativeValue\",\"value\":1263,\"unitCode\":\"FTK\"},\"@type\":\"SingleFamilyResidence\"},{\"@context\":\"http://schema.org\",\"@type\":\"Product\",\"name\":\"1331 Alberni St #3001, Vancouver, BC V6E 4S1\",\"offers\":{\"@type\":\"Offer\",\"price\":1460000,\"priceCurrency\":\"CAD\"},\"url\":\"https://www.redfin.ca/bc/vancouver/1331-Alberni-St-V6E-4S1/unit-3001/home/155244242\"}]</script>,\n",
       " <script type=\"application/ld+json\">[{\"@context\":\"http://schema.org\",\"name\":\"1323 Homer St #1503, Vancouver, BC V6B 5T1\",\"url\":\"https://www.redfin.ca/bc/vancouver/1323-Homer-St-V6B-5T1/unit-1503/home/155555826\",\"address\":{\"@type\":\"PostalAddress\",\"streetAddress\":\"1323 Homer St #1503\",\"addressLocality\":\"Vancouver\",\"addressRegion\":\"BC\",\"postalCode\":\"V6B 5T1\",\"addressCountry\":\"CA\"},\"geo\":{\"@type\":\"GeoCoordinates\",\"latitude\":49.2740986,\"longitude\":-123.125481},\"numberOfRooms\":2,\"floorSize\":{\"@type\":\"QuantitativeValue\",\"value\":1102,\"unitCode\":\"FTK\"},\"@type\":\"SingleFamilyResidence\"},{\"@context\":\"http://schema.org\",\"@type\":\"Product\",\"name\":\"1323 Homer St #1503, Vancouver, BC V6B 5T1\",\"offers\":{\"@type\":\"Offer\",\"price\":1250000,\"priceCurrency\":\"CAD\"},\"url\":\"https://www.redfin.ca/bc/vancouver/1323-Homer-St-V6B-5T1/unit-1503/home/155555826\"}]</script>,\n",
       " <script type=\"application/ld+json\">[{\"@context\":\"http://schema.org\",\"name\":\"2248 E 48th Ave #2, Vancouver, BC V5P 1S1\",\"url\":\"https://www.redfin.ca/bc/vancouver/2248-E-48th-Ave-V5P-1S1/unit-2/home/194481979\",\"address\":{\"@type\":\"PostalAddress\",\"streetAddress\":\"2248 E 48th Ave #2\",\"addressLocality\":\"Vancouver\",\"addressRegion\":\"BC\",\"postalCode\":\"V5P 1S1\",\"addressCountry\":\"CA\"},\"geo\":{\"@type\":\"GeoCoordinates\",\"latitude\":49.2260412,\"longitude\":-123.0610199},\"numberOfRooms\":3,\"floorSize\":{\"@type\":\"QuantitativeValue\",\"value\":1597,\"unitCode\":\"FTK\"},\"@type\":\"SingleFamilyResidence\"},{\"@context\":\"http://schema.org\",\"@type\":\"Product\",\"name\":\"2248 E 48th Ave #2, Vancouver, BC V5P 1S1\",\"offers\":{\"@type\":\"Offer\",\"price\":1668000,\"priceCurrency\":\"CAD\"},\"url\":\"https://www.redfin.ca/bc/vancouver/2248-E-48th-Ave-V5P-1S1/unit-2/home/194481979\"}]</script>,\n",
       " <script type=\"application/ld+json\">[{\"@context\":\"http://schema.org\",\"name\":\"488 Helmcken St #408, Vancouver, BC V6B 6E4\",\"url\":\"https://www.redfin.ca/bc/vancouver/488-Helmcken-St-V6B-6E4/unit-408/home/155470853\",\"address\":{\"@type\":\"PostalAddress\",\"streetAddress\":\"488 Helmcken St #408\",\"addressLocality\":\"Vancouver\",\"addressRegion\":\"BC\",\"postalCode\":\"V6B 6E4\",\"addressCountry\":\"CA\"},\"geo\":{\"@type\":\"GeoCoordinates\",\"latitude\":49.2766412,\"longitude\":-123.1226457},\"numberOfRooms\":1,\"floorSize\":{\"@type\":\"QuantitativeValue\",\"value\":633,\"unitCode\":\"FTK\"},\"@type\":\"SingleFamilyResidence\"},{\"@context\":\"http://schema.org\",\"@type\":\"Product\",\"name\":\"488 Helmcken St #408, Vancouver, BC V6B 6E4\",\"offers\":{\"@type\":\"Offer\",\"price\":578000,\"priceCurrency\":\"CAD\"},\"url\":\"https://www.redfin.ca/bc/vancouver/488-Helmcken-St-V6B-6E4/unit-408/home/155470853\"}]</script>,\n",
       " <script type=\"application/ld+json\">{\"@context\":\"http://schema.org\",\"@type\":\"Event\",\"startDate\":\"2025-04-11T01:00:00.000Z\",\"endDate\":\"2025-04-11T02:00:00.000Z\",\"name\":\"Open House - 6:00 - 7:00 PM\",\"url\":\"https://www.redfin.ca/bc/vancouver/488-Helmcken-St-V6B-6E4/unit-408/home/155470853\",\"description\":\"Check out an open house at 488 Helmcken St #408.\",\"offers\":{\"@type\":\"offer\",\"price\":578000,\"priceCurrency\":\"CAD\",\"availability\":\"http://schema.org/InStock\",\"URL\":\"https://www.redfin.ca/bc/vancouver/488-Helmcken-St-V6B-6E4/unit-408/home/155470853\",\"validFrom\":\"2025-04-11T01:00:00.000Z\"},\"performer\":{\"@type\":\"Thing\",\"name\":\"\"},\"location\":{\"@type\":\"Place\",\"name\":\"488 Helmcken St #408\",\"geo\":{\"@type\":\"GeoCoordinates\",\"latitude\":49.2766412,\"longitude\":-123.1226457},\"address\":{\"@type\":\"PostalAddress\",\"streetAddress\":\"488 Helmcken St #408\",\"addressLocality\":\"Vancouver\",\"postalCode\":\"V6B 6E4\",\"addressRegion\":\"BC\",\"addressCountry\":\"CA\"}}}</script>,\n",
       " <script type=\"application/ld+json\">[{\"@context\":\"http://schema.org\",\"name\":\"6859 Cambie St #312, Vancouver, BC V6P 3H1\",\"url\":\"https://www.redfin.ca/bc/vancouver/6859-Cambie-St-V6P-3H1/unit-312/home/195263712\",\"address\":{\"@type\":\"PostalAddress\",\"streetAddress\":\"6859 Cambie St #312\",\"addressLocality\":\"Vancouver\",\"addressRegion\":\"BC\",\"postalCode\":\"V6P 3H1\",\"addressCountry\":\"CA\"},\"geo\":{\"@type\":\"GeoCoordinates\",\"latitude\":49.223083,\"longitude\":-123.1171319},\"numberOfRooms\":2,\"floorSize\":{\"@type\":\"QuantitativeValue\",\"value\":767,\"unitCode\":\"FTK\"},\"@type\":\"SingleFamilyResidence\"},{\"@context\":\"http://schema.org\",\"@type\":\"Product\",\"name\":\"6859 Cambie St #312, Vancouver, BC V6P 3H1\",\"offers\":{\"@type\":\"Offer\",\"price\":999000,\"priceCurrency\":\"CAD\"},\"url\":\"https://www.redfin.ca/bc/vancouver/6859-Cambie-St-V6P-3H1/unit-312/home/195263712\"}]</script>,\n",
       " <script type=\"application/ld+json\">[{\"@context\":\"http://schema.org\",\"name\":\"4715 W 4th Ave, Vancouver, BC V6T 1C3\",\"url\":\"https://www.redfin.ca/bc/vancouver/4715-W-4th-Ave-V6T-1C3/home/155881077\",\"address\":{\"@type\":\"PostalAddress\",\"streetAddress\":\"4715 W 4th Ave\",\"addressLocality\":\"Vancouver\",\"addressRegion\":\"BC\",\"postalCode\":\"V6T 1C3\",\"addressCountry\":\"CA\"},\"geo\":{\"@type\":\"GeoCoordinates\",\"latitude\":49.2697993,\"longitude\":-123.215768},\"numberOfRooms\":5,\"floorSize\":{\"@type\":\"QuantitativeValue\",\"value\":3278,\"unitCode\":\"FTK\"},\"@type\":\"SingleFamilyResidence\"},{\"@context\":\"http://schema.org\",\"@type\":\"Product\",\"name\":\"4715 W 4th Ave, Vancouver, BC V6T 1C3\",\"offers\":{\"@type\":\"Offer\",\"price\":9999000,\"priceCurrency\":\"CAD\"},\"url\":\"https://www.redfin.ca/bc/vancouver/4715-W-4th-Ave-V6T-1C3/home/155881077\"}]</script>,\n",
       " <script type=\"application/ld+json\">[{\"@context\":\"http://schema.org\",\"name\":\"120 W 2nd St #2901, North Vancouver, BC V7M 1C3\",\"url\":\"https://www.redfin.ca/bc/north-vancouver/120-2nd-St-W-V7M-1C3/unit-2901/home/157583342\",\"address\":{\"@type\":\"PostalAddress\",\"streetAddress\":\"120 W 2nd St #2901\",\"addressLocality\":\"North Vancouver\",\"addressRegion\":\"BC\",\"postalCode\":\"V7M 1C3\",\"addressCountry\":\"CA\"},\"geo\":{\"@type\":\"GeoCoordinates\",\"latitude\":49.313317,\"longitude\":-123.0785328},\"numberOfRooms\":3,\"floorSize\":{\"@type\":\"QuantitativeValue\",\"value\":2328,\"unitCode\":\"FTK\"},\"@type\":\"SingleFamilyResidence\"},{\"@context\":\"http://schema.org\",\"@type\":\"Product\",\"name\":\"120 W 2nd St #2901, North Vancouver, BC V7M 1C3\",\"offers\":{\"@type\":\"Offer\",\"price\":3988000,\"priceCurrency\":\"CAD\"},\"url\":\"https://www.redfin.ca/bc/north-vancouver/120-2nd-St-W-V7M-1C3/unit-2901/home/157583342\"}]</script>,\n",
       " <script type=\"application/ld+json\">[{\"@context\":\"http://schema.org\",\"name\":\"479 W 28th Ave #264, Vancouver, BC V5Y 0P2\",\"url\":\"https://www.redfin.ca/bc/vancouver/479-W-28th-Ave-V5Y-2K9/unit-264/home/195263450\",\"address\":{\"@type\":\"PostalAddress\",\"streetAddress\":\"479 W 28th Ave #264\",\"addressLocality\":\"Vancouver\",\"addressRegion\":\"BC\",\"postalCode\":\"V5Y 0P2\",\"addressCountry\":\"CA\"},\"geo\":{\"@type\":\"GeoCoordinates\",\"latitude\":49.2460884,\"longitude\":-123.1144398},\"numberOfRooms\":3,\"floorSize\":{\"@type\":\"QuantitativeValue\",\"value\":1258,\"unitCode\":\"FTK\"},\"@type\":\"SingleFamilyResidence\"},{\"@context\":\"http://schema.org\",\"@type\":\"Product\",\"name\":\"479 W 28th Ave #264, Vancouver, BC V5Y 0P2\",\"offers\":{\"@type\":\"Offer\",\"price\":1799900,\"priceCurrency\":\"CAD\"},\"url\":\"https://www.redfin.ca/bc/vancouver/479-W-28th-Ave-V5Y-2K9/unit-264/home/195263450\"}]</script>,\n",
       " <script type=\"application/ld+json\">[{\"@context\":\"http://schema.org\",\"name\":\"2941 East 29th Ave, Vancouver, BC V5R 1V8\",\"url\":\"https://www.redfin.ca/bc/vancouver/2941-E-29th-Ave-V5R-1V8/home/154579567\",\"address\":{\"@type\":\"PostalAddress\",\"streetAddress\":\"2941 East 29th Ave\",\"addressLocality\":\"Vancouver\",\"addressRegion\":\"BC\",\"postalCode\":\"V5R 1V8\",\"addressCountry\":\"CA\"},\"geo\":{\"@type\":\"GeoCoordinates\",\"latitude\":49.2448734,\"longitude\":-123.0431398},\"numberOfRooms\":3,\"floorSize\":{\"@type\":\"QuantitativeValue\",\"value\":2465,\"unitCode\":\"FTK\"},\"@type\":\"SingleFamilyResidence\"},{\"@context\":\"http://schema.org\",\"@type\":\"Product\",\"name\":\"2941 East 29th Ave, Vancouver, BC V5R 1V8\",\"offers\":{\"@type\":\"Offer\",\"price\":4000000,\"priceCurrency\":\"CAD\"},\"url\":\"https://www.redfin.ca/bc/vancouver/2941-E-29th-Ave-V5R-1V8/home/154579567\"}]</script>,\n",
       " <script type=\"application/ld+json\">[{\"@context\":\"http://schema.org\",\"name\":\"2288 Alpha Ave #1701, Burnaby, BC V5C 0L9\",\"url\":\"https://www.redfin.ca/bc/burnaby/2288-Alpha-Ave-V5C-0L9/unit-1701/home/179231676\",\"address\":{\"@type\":\"PostalAddress\",\"streetAddress\":\"2288 Alpha Ave #1701\",\"addressLocality\":\"Burnaby\",\"addressRegion\":\"BC\",\"postalCode\":\"V5C 0L9\",\"addressCountry\":\"CA\"},\"geo\":{\"@type\":\"GeoCoordinates\",\"latitude\":49.2635696,\"longitude\":-122.9998684},\"numberOfRooms\":2,\"floorSize\":{\"@type\":\"QuantitativeValue\",\"value\":752,\"unitCode\":\"FTK\"},\"@type\":\"SingleFamilyResidence\"},{\"@context\":\"http://schema.org\",\"@type\":\"Product\",\"name\":\"2288 Alpha Ave #1701, Burnaby, BC V5C 0L9\",\"offers\":{\"@type\":\"Offer\",\"price\":830000,\"priceCurrency\":\"CAD\"},\"url\":\"https://www.redfin.ca/bc/burnaby/2288-Alpha-Ave-V5C-0L9/unit-1701/home/179231676\"}]</script>,\n",
       " <script type=\"application/ld+json\">{\"@context\":\"http://schema.org\",\"@type\":\"BreadcrumbList\",\"itemListElement\":[{\"@type\":\"ListItem\",\"position\":1,\"item\":{\"@type\":\"Organization\",\"@id\":\"https://www.redfin.ca\",\"name\":\"Redfin\",\"description\":\"The home page\"}},{\"@type\":\"ListItem\",\"position\":2,\"item\":{\"@type\":\"State\",\"@id\":\"https://www.redfin.ca/bc\",\"name\":\"British Columbia\",\"description\":\"A Province with homes for sale\"}},{\"@type\":\"ListItem\",\"position\":3,\"item\":{\"@type\":\"AdministrativeArea\",\"@id\":\"https://www.redfin.ca/bc/greater-vancouver-regional-district\",\"name\":\"Greater Vancouver Regional District\",\"description\":\"A Provincial Division with homes for sale\"}},{\"@type\":\"ListItem\",\"position\":4,\"item\":{\"@type\":\"City\",\"@id\":\"https://www.redfin.ca/bc/vancouver\",\"name\":\"Vancouver\",\"description\":\"A Municipality with homes for sale\"}}]}</script>]"
      ]
     },
     "execution_count": 31,
     "metadata": {},
     "output_type": "execute_result"
    }
   ],
   "source": [
    "head = {\"User-Agent\":\"Mozilla/5.0 (Windows NT 10.0; Win64; x64) AppleWebKit/537.36 (KHTML, like Gecko) Chrome/120.0.0.0 Safari/537.36\"}\n",
    "link = \"https://www.redfin.com/bc/vancouver/filter/viewport=49.28223:49.28223:-123.1207:-123.1207\"\n",
    "resp = requests.get(link, headers=head)\n",
    "soup = BeautifulSoup(resp.text, 'html.parser')\n",
    "soup.find_all('script', type='application/ld+json')"
   ]
  },
  {
   "cell_type": "code",
   "execution_count": 18,
   "metadata": {},
   "outputs": [
    {
     "data": {
      "text/plain": [
       "49.3131968"
      ]
     },
     "execution_count": 18,
     "metadata": {},
     "output_type": "execute_result"
    }
   ],
   "source": [
    "j.get('geo').get('latitude')"
   ]
  },
  {
   "cell_type": "code",
   "execution_count": 21,
   "metadata": {},
   "outputs": [
    {
     "data": {
      "text/plain": [
       "-123.0437459"
      ]
     },
     "execution_count": 21,
     "metadata": {},
     "output_type": "execute_result"
    }
   ],
   "source": [
    "j.get('geo').get('longitude')"
   ]
  },
  {
   "cell_type": "code",
   "execution_count": 20,
   "metadata": {},
   "outputs": [
    {
     "data": {
      "text/plain": [
       "'North Vancouver'"
      ]
     },
     "execution_count": 20,
     "metadata": {},
     "output_type": "execute_result"
    }
   ],
   "source": [
    "j.get('address').get('addressLocality')"
   ]
  },
  {
   "cell_type": "code",
   "execution_count": 19,
   "metadata": {},
   "outputs": [
    {
     "data": {
      "text/plain": [
       "2552"
      ]
     },
     "execution_count": 19,
     "metadata": {},
     "output_type": "execute_result"
    }
   ],
   "source": [
    "j.get('floorSize').get('value')"
   ]
  },
  {
   "cell_type": "code",
   "execution_count": 23,
   "metadata": {},
   "outputs": [
    {
     "data": {
      "text/plain": [
       "'V7L 1K7'"
      ]
     },
     "execution_count": 23,
     "metadata": {},
     "output_type": "execute_result"
    }
   ],
   "source": [
    "j.get('address').get('postalCode')"
   ]
  },
  {
   "cell_type": "code",
   "execution_count": 27,
   "metadata": {},
   "outputs": [
    {
     "data": {
      "text/plain": [
       "0"
      ]
     },
     "execution_count": 27,
     "metadata": {},
     "output_type": "execute_result"
    }
   ],
   "source": [
    "j.get('numberOfRooms')"
   ]
  },
  {
   "cell_type": "code",
   "execution_count": 26,
   "metadata": {},
   "outputs": [
    {
     "data": {
      "text/plain": [
       "'231 E Pender St #404'"
      ]
     },
     "execution_count": 26,
     "metadata": {},
     "output_type": "execute_result"
    }
   ],
   "source": [
    "j.get('address').get('streetAddress')"
   ]
  },
  {
   "cell_type": "code",
   "execution_count": 29,
   "metadata": {},
   "outputs": [
    {
     "data": {
      "text/plain": [
       "'https://www.redfin.ca/bc/vancouver/231-E-Pender-St-V6A-0G3/unit-404/home/168610582'"
      ]
     },
     "execution_count": 29,
     "metadata": {},
     "output_type": "execute_result"
    }
   ],
   "source": [
    "j.get('url')"
   ]
  },
  {
   "cell_type": "code",
   "execution_count": 30,
   "metadata": {},
   "outputs": [
    {
     "data": {
      "text/plain": [
       "505"
      ]
     },
     "execution_count": 30,
     "metadata": {},
     "output_type": "execute_result"
    }
   ],
   "source": [
    "j.get('floorSize').get('value')"
   ]
  }
 ],
 "metadata": {
  "kernelspec": {
   "display_name": "web_scraping",
   "language": "python",
   "name": "python3"
  },
  "language_info": {
   "codemirror_mode": {
    "name": "ipython",
    "version": 3
   },
   "file_extension": ".py",
   "mimetype": "text/x-python",
   "name": "python",
   "nbconvert_exporter": "python",
   "pygments_lexer": "ipython3",
   "version": "3.12.9"
  }
 },
 "nbformat": 4,
 "nbformat_minor": 2
}
