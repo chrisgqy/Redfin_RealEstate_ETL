{
 "cells": [
  {
   "cell_type": "code",
   "execution_count": null,
   "metadata": {},
   "outputs": [],
   "source": [
    "import pandas as pd\n",
    "import json\n",
    "import requests \n",
    "import geopandas as gpd\n",
    "from shapely.geometry import Point, Polygon, shape\n",
    "import numpy as np\n"
   ]
  },
  {
   "cell_type": "code",
   "execution_count": 88,
   "metadata": {},
   "outputs": [],
   "source": [
    "district_boundary_api = \"https://opendata.vancouver.ca/api/explore/v2.1/catalog/datasets/local-area-boundary/records?limit=20\"\n",
    "header =  {\"User-Agent\":\"Mozilla/5.0 (Windows NT 10.0; Win64; x64) AppleWebKit/537.36 (KHTML, like Gecko) Chrome/120.0.0.0 Safari/537.36\"}\n",
    "\n",
    "resp = requests.get(district_boundary_api, headers=header)\n",
    "boundary_txt =  resp.text\n",
    "boundary_data = json.loads(boundary_txt)"
   ]
  },
  {
   "cell_type": "code",
   "execution_count": 94,
   "metadata": {},
   "outputs": [],
   "source": [
    "df = pd.read_csv('../data/processed_data/vancouver_real_estate.csv', index_col=0)\n",
    "df.reset_index(inplace=True)\n",
    "df.set_index('index', inplace=True)"
   ]
  },
  {
   "cell_type": "code",
   "execution_count": 95,
   "metadata": {},
   "outputs": [],
   "source": [
    "def coords_to_polygon(coords):\n",
    "    return Polygon(coords)"
   ]
  },
  {
   "cell_type": "code",
   "execution_count": 112,
   "metadata": {},
   "outputs": [],
   "source": [
    "district_polys = []\n",
    "for i in range(boundary_data['total_count']-2):\n",
    "    \n",
    "    district_info = boundary_data['results'][i]\n",
    "    district_name = district_info['name']\n",
    "    district_coords = district_info['geom']['geometry']['coordinates'][0]\n",
    "    district_polygon = coords_to_polygon(district_coords)\n",
    "    district_polys.append((district_name,district_polygon))"
   ]
  },
  {
   "cell_type": "code",
   "execution_count": 114,
   "metadata": {},
   "outputs": [],
   "source": [
    "district = []\n",
    "for i in range(10):\n",
    "    if np.isnan(df.iloc[i, 7]):\n",
    "        district.append(np.nan)\n",
    "    else:\n",
    "        poi = Point(df.iloc[i, 7], df.iloc[i,6])\n",
    "        for name, poly in district_polys:\n",
    "            if poly.contains(poi):\n",
    "                district.append(name)\n",
    "            else:\n",
    "                district.append(\"outside of vancouver\")"
   ]
  }
 ],
 "metadata": {
  "kernelspec": {
   "display_name": "web_scraping",
   "language": "python",
   "name": "python3"
  },
  "language_info": {
   "codemirror_mode": {
    "name": "ipython",
    "version": 3
   },
   "file_extension": ".py",
   "mimetype": "text/x-python",
   "name": "python",
   "nbconvert_exporter": "python",
   "pygments_lexer": "ipython3",
   "version": "3.12.9"
  }
 },
 "nbformat": 4,
 "nbformat_minor": 2
}
